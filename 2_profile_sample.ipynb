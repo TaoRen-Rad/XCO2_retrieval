{
 "cells": [
  {
   "cell_type": "code",
   "execution_count": 1,
   "metadata": {},
   "outputs": [],
   "source": [
    "import pickle\n",
    "import numpy as np\n",
    "import pandas as pd\n",
    "from matplotlib import pyplot as plt\n",
    "import h5py\n",
    "\n",
    "\n"
   ]
  },
  {
   "cell_type": "code",
   "execution_count": 2,
   "metadata": {},
   "outputs": [],
   "source": [
    "AU = 1.49597871 * (10 ** 11)\n",
    "\n",
    "profile_files = ['../new_sim/sim10000_16.h5',\n",
    "                '../new_sim/sim10000_17.h5',\n",
    "                '../new_sim/sim10000_18.h5',\n",
    "                '../new_sim/sim10000_19.h5',\n",
    "                '../new_sim/sim10000_20.h5',\n",
    "                '../new_sim/sim10000_21.h5']\n",
    "\n",
    "ID_files = ['../ND_ID_10000_16.dat',\n",
    "           '../ND_ID_10000_17.dat',\n",
    "           '../ND_ID_10000_18.dat',\n",
    "           '../ND_ID_10000_19.dat',\n",
    "           '../ND_ID_10000_20.dat',\n",
    "           '../ND_ID_10000_21.dat']\n",
    "\n",
    "wf_files = ['../wf_16.dat',\n",
    "           '../wf_17.dat',\n",
    "           '../wf_18.dat',\n",
    "           '../wf_19.dat',\n",
    "           '../wf_20.dat',\n",
    "           '../wf_21.dat']\n",
    "\n",
    "all_data = []\n",
    "# final_table = pd.DataFrame()\n",
    "\n",
    "for profile_file, ID_file, wf_file in zip(profile_files, ID_files, wf_files):\n",
    "    ID_data = np.loadtxt(ID_file)[:]\n",
    "    wf_data = np.loadtxt(wf_file)[:]\n",
    "\n",
    "\n",
    "    with h5py.File(profile_file, 'r') as f:\n",
    "        lat = f['Scenario']['latitude'][:,0]#(10000,)\n",
    "        lon = f['Scenario']['longitude'][:,0]#(10000,)\n",
    "        sate_zenith = f['Scenario']['observation_zenith'][:,0]*np.pi/180#(10000,)\n",
    "        sate_azimuth = f['Scenario']['observation_azimuth'][:,0]*np.pi/180#(10000,)\n",
    "        solar_zenith  = f['Scenario']['solar_zenith'][:,0]*np.pi/180#(10000,)\n",
    "        solar_azimuth = f['Scenario']['solar_azimuth'][:,0]*np.pi/180#(10000,)\n",
    "        rela_v = f['Scenario']['relative_velocity'][:,0]#(10000,)\n",
    "        ds = f['Scenario']['solar_distance'][:]/AU#(10000,)\n",
    "        surf_p = f['Atmosphere']['surface_pressure'][:]#(10000,)\n",
    "\n",
    "        p_level = f['Atmosphere']['pressure_levels'][:,:]#(10000,20)\n",
    "        h2o = f['Atmosphere']['Absorber']['vmr'][:,1,:]#(10000,20)\n",
    "        temp = f['Atmosphere']['temperature'][:,:]#(10000,20)\n",
    "        co2_profile = f['Atmosphere']['Absorber']['vmr'][:,0,:]#(10000,20)\n",
    "\n",
    "    xco2 = np.sum(co2_profile * wf_data, axis=1)#(10000,)\n",
    "    # year_data = pd.DataFrame({'ID': ID_data, 'lat': lat, 'lon': lon, 'obs_z': sate_zenith, 'obs_a': sate_azimuth,\\\n",
    "    #                            'solar_z': solar_zenith, 'solar_a': solar_azimuth, 'velocity': rela_v, 'SE-d': ds, 'surf_P': surf_p,\\\n",
    "    #                            'P_profile': p_level,'h2o_profile': h2o,'T_profile': temp, 'co2_profile': co2_profile, 'wf': wf_data})\n",
    "    # year_data['xco2'] = xco2#(10000,)\n",
    "\n",
    "    year_data = np.column_stack((ID_data, lat, lon,sate_zenith,sate_azimuth,solar_zenith,solar_azimuth,rela_v,ds,surf_p,xco2,\\\n",
    "                                 p_level,h2o,temp,co2_profile,wf_data))\n",
    "\n",
    "    all_data.append(year_data)\n",
    "\n",
    "final_data = np.vstack(all_data)\n",
    "# print(final_data.shape)\n",
    "# column_names = ['ID', 'lat', 'lon','sate_zenith','sate_azimuth','solar_zenith','solar_azimuth','rela_v','ds','surf_p',\\\n",
    "#                 'p_level','h2o_profile','T_profile','co2_profile','wf', 'xco2'] \n",
    "final_table = pd.DataFrame(final_data)\n",
    "    # final_table = pd.concat([final_table, year_data])\n",
    "\n",
    "final_table.to_hdf('profile.h5', key='feature', mode='w')\n"
   ]
  },
  {
   "cell_type": "code",
   "execution_count": null,
   "metadata": {},
   "outputs": [],
   "source": []
  }
 ],
 "metadata": {
  "kernelspec": {
   "display_name": "Python 3.9.12 ('base')",
   "language": "python",
   "name": "python3"
  },
  "language_info": {
   "codemirror_mode": {
    "name": "ipython",
    "version": 3
   },
   "file_extension": ".py",
   "mimetype": "text/x-python",
   "name": "python",
   "nbconvert_exporter": "python",
   "pygments_lexer": "ipython3",
   "version": "3.10.9"
  },
  "orig_nbformat": 4,
  "vscode": {
   "interpreter": {
    "hash": "ad2bdc8ecc057115af97d19610ffacc2b4e99fae6737bb82f5d7fb13d2f2c186"
   }
  }
 },
 "nbformat": 4,
 "nbformat_minor": 2
}
